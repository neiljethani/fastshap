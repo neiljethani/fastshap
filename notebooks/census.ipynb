{
 "cells": [
  {
   "cell_type": "code",
   "execution_count": 1,
   "id": "bacterial-scottish",
   "metadata": {},
   "outputs": [],
   "source": [
    "import numpy as np\n",
    "from sklearn.model_selection import train_test_split\n",
    "from sklearn.preprocessing import StandardScaler\n",
    "import tensorflow as tf\n",
    "tf.get_logger().setLevel('ERROR')"
   ]
  },
  {
   "cell_type": "code",
   "execution_count": 2,
   "id": "nasty-handle",
   "metadata": {},
   "outputs": [],
   "source": [
    "# IMPORTANT: SET RANDOM SEEDS FOR REPRODUCIBILITY\n",
    "import os\n",
    "os.environ['PYTHONHASHSEED'] = str(420)\n",
    "import random\n",
    "random.seed(420)\n",
    "np.random.seed(420)\n",
    "tf.random.set_seed(420)"
   ]
  },
  {
   "cell_type": "code",
   "execution_count": 4,
   "id": "collaborative-window",
   "metadata": {},
   "outputs": [],
   "source": [
    "# Load and split data\n",
    "import shap\n",
    "X_train, X_test, Y_train, Y_test = train_test_split(\n",
    "    *shap.datasets.adult(), test_size=0.2, random_state=7)\n",
    "X_train, X_val, Y_train, Y_val = train_test_split(\n",
    "    X_train, Y_train, test_size=0.2, random_state=0)\n",
    "\n",
    "# Data scaling\n",
    "num_features = X_train.shape[1]\n",
    "num_classes = 2\n",
    "feature_names = X_train.columns.tolist()\n",
    "ss = StandardScaler()\n",
    "ss.fit(X_train)\n",
    "X_train = ss.transform(X_train.values)\n",
    "X_val = ss.transform(X_val.values)\n",
    "X_test = ss.transform(X_test.values)"
   ]
  },
  {
   "cell_type": "markdown",
   "id": "expanded-custody",
   "metadata": {},
   "source": [
    "# Train Model"
   ]
  },
  {
   "cell_type": "code",
   "execution_count": 5,
   "id": "subtle-village",
   "metadata": {},
   "outputs": [],
   "source": [
    "import pickle\n",
    "import lightgbm as lgb"
   ]
  },
  {
   "cell_type": "markdown",
   "id": "visible-eagle",
   "metadata": {},
   "source": [
    "### Save Dir"
   ]
  },
  {
   "cell_type": "code",
   "execution_count": 6,
   "id": "turkish-seven",
   "metadata": {},
   "outputs": [],
   "source": [
    "model_dir = os.path.join(os.getcwd(), 'census_models')\n",
    "if not os.path.isdir(model_dir):\n",
    "    os.makedirs(model_dir)"
   ]
  },
  {
   "cell_type": "code",
   "execution_count": 7,
   "id": "handed-emphasis",
   "metadata": {},
   "outputs": [
    {
     "name": "stdout",
     "output_type": "stream",
     "text": [
      "Loading saved model\n"
     ]
    }
   ],
   "source": [
    "if os.path.isfile(os.path.join(model_dir, 'census model.pkl')):\n",
    "    print('Loading saved model')\n",
    "    with open(os.path.join(model_dir, 'census model.pkl'), 'rb') as f:\n",
    "        model = pickle.load(f)\n",
    "\n",
    "else:\n",
    "    #Setup\n",
    "    params = {\n",
    "        \"max_bin\": 512,\n",
    "        \"learning_rate\": 0.05,\n",
    "        \"boosting_type\": \"gbdt\",\n",
    "        \"num_class\": 2,\n",
    "        \"objective\": \"multiclass\",\n",
    "        \"metric\": \"multi_logloss\",\n",
    "        \"num_leaves\": 10,\n",
    "        \"verbose\": -1,\n",
    "        \"min_data\": 100,\n",
    "        \"boost_from_average\": True\n",
    "    }\n",
    "\n",
    "    # More setup\n",
    "    d_train = lgb.Dataset(X_train, label=Y_train)\n",
    "    d_val = lgb.Dataset(X_val, label=Y_val)\n",
    "\n",
    "    # Train model\n",
    "    model = lgb.train(params, d_train, 10000, valid_sets=[d_val],\n",
    "                      early_stopping_rounds=50, verbose_eval=1000)\n",
    "\n",
    "    # Save model\n",
    "    with open(os.path.join(model_dir, 'census model.pkl'), 'wb') as f:\n",
    "        pickle.dump(model, f)"
   ]
  },
  {
   "cell_type": "markdown",
   "id": "essential-spice",
   "metadata": {},
   "source": [
    "# Train Surrogate"
   ]
  },
  {
   "cell_type": "code",
   "execution_count": 8,
   "id": "incoming-spanish",
   "metadata": {},
   "outputs": [],
   "source": [
    "from fastshap import Surrogate"
   ]
  },
  {
   "cell_type": "markdown",
   "id": "divided-ottawa",
   "metadata": {},
   "source": [
    "### Surrogate Model"
   ]
  },
  {
   "cell_type": "code",
   "execution_count": 9,
   "id": "lasting-explosion",
   "metadata": {},
   "outputs": [],
   "source": [
    "from tensorflow.keras.layers import Input, Dense\n",
    "from tensorflow.keras.models import Model, Sequential\n",
    "\n",
    "model_input = Input(shape=num_features, name='input')\n",
    "net = Dense(128, activation=\"relu\")(model_input)\n",
    "net = Dense(128, activation=\"relu\")(net)\n",
    "out = Dense(num_classes, activation=\"softmax\")(net)\n",
    "\n",
    "surrogate_model = Model(model_input, out)"
   ]
  },
  {
   "cell_type": "markdown",
   "id": "intended-knitting",
   "metadata": {},
   "source": [
    "### Train"
   ]
  },
  {
   "cell_type": "code",
   "execution_count": 11,
   "id": "italian-adrian",
   "metadata": {},
   "outputs": [
    {
     "name": "stdout",
     "output_type": "stream",
     "text": [
      "Loading saved model\n"
     ]
    }
   ],
   "source": [
    "if os.path.isfile(os.path.join(model_dir, 'surrogate.h5')):\n",
    "    print('Loading saved model')\n",
    "    surrogate_model = tf.keras.models.load_model(os.path.join(model_dir, 'surrogate.h5'))\n",
    "    \n",
    "    surrogate = Surrogate(surrogate_model = surrogate_model,  \n",
    "                          num_features = num_features,\n",
    "                          baseline = 0)\n",
    "else:\n",
    "    surrogate = Surrogate(surrogate_model = surrogate_model,  \n",
    "                          num_features = num_features,\n",
    "                          baseline = 0)\n",
    "\n",
    "    surrogate.train(original_model = model,\n",
    "                    train_data = X_train,\n",
    "                    val_data = X_val,\n",
    "                    batch_size = 64,\n",
    "                    max_epochs = 100,\n",
    "                    validation_batch_size = 10000,\n",
    "                    loss_fn=\"categorical_crossentropy\",\n",
    "                    lr=1e-3,\n",
    "                    min_lr=1e-5,\n",
    "                    lr_factor=0.9,\n",
    "                    lookback=10,\n",
    "                    verbose=1, \n",
    "                    model_dir = model_dir)"
   ]
  },
  {
   "cell_type": "markdown",
   "id": "cordless-gallery",
   "metadata": {},
   "source": [
    "# Train FastSHAP"
   ]
  },
  {
   "cell_type": "code",
   "execution_count": 12,
   "id": "improving-concord",
   "metadata": {},
   "outputs": [],
   "source": [
    "from fastshap import FastSHAP"
   ]
  },
  {
   "cell_type": "markdown",
   "id": "immediate-split",
   "metadata": {},
   "source": [
    "### Explainer Model"
   ]
  },
  {
   "cell_type": "code",
   "execution_count": 13,
   "id": "straight-thunder",
   "metadata": {},
   "outputs": [],
   "source": [
    "model_input = Input(shape=num_features, name='input')\n",
    "net = Dense(128, activation=\"relu\")(model_input)\n",
    "net = Dense(128, activation=\"relu\")(net)\n",
    "out = Dense(num_classes * num_features, activation=\"linear\")(net)\n",
    "\n",
    "explainer = Model(model_input, out)"
   ]
  },
  {
   "cell_type": "markdown",
   "id": "fresh-sense",
   "metadata": {},
   "source": [
    "### Train"
   ]
  },
  {
   "cell_type": "code",
   "execution_count": 16,
   "id": "devoted-found",
   "metadata": {},
   "outputs": [
    {
     "name": "stdout",
     "output_type": "stream",
     "text": [
      "Loading saved model\n"
     ]
    }
   ],
   "source": [
    "if os.path.isfile(os.path.join(model_dir, 'explainer.h5')):\n",
    "    print('Loading saved model')\n",
    "    explainer = tf.keras.models.load_model(os.path.join(model_dir, 'explainer.h5'))\n",
    "    \n",
    "    fastshap = FastSHAP(explainer, surrogate, \n",
    "                        normalization='additive',\n",
    "                        link='identity')\n",
    "else:    \n",
    "    # Set up FastSHAP object\n",
    "    fastshap = FastSHAP(explainer, surrogate, \n",
    "                        normalization='additive',\n",
    "                        link='identity')\n",
    "\n",
    "    # Train\n",
    "    fastshap.train(train_data = X_train,\n",
    "                   val_data = X_val,\n",
    "                   batch_size=32,\n",
    "                   validation_batch_size = 64,\n",
    "                   num_samples=8,\n",
    "                   max_epochs=200,\n",
    "                   model_dir = model_dir, \n",
    "                   lr=2e-4,\n",
    "                   verbose = 1, \n",
    "                   lookback = 5)"
   ]
  },
  {
   "cell_type": "markdown",
   "id": "vulnerable-copying",
   "metadata": {},
   "source": [
    "# Compare with KernelSHAP"
   ]
  },
  {
   "cell_type": "code",
   "execution_count": 17,
   "id": "common-galaxy",
   "metadata": {},
   "outputs": [],
   "source": [
    "import matplotlib.pyplot as plt\n",
    "import shapreg  # https://github.com/iancovert/shapley-regression"
   ]
  },
  {
   "cell_type": "code",
   "execution_count": 18,
   "id": "differential-nylon",
   "metadata": {},
   "outputs": [],
   "source": [
    "# Setup for KernelSHAP\n",
    "from tensorflow.keras.layers import Multiply\n",
    "def imputer(x, S):\n",
    "    S = tf.constant(S, dtype=tf.float32)\n",
    "    xs = Multiply()([x, S])\n",
    "    pred = surrogate.surrogate_model(xs)\n",
    "    return pred.numpy()"
   ]
  },
  {
   "cell_type": "code",
   "execution_count": 19,
   "id": "integral-community",
   "metadata": {},
   "outputs": [
    {
     "data": {
      "application/vnd.jupyter.widget-view+json": {
       "model_id": "532e9b89598c4ea7a85a88d3d142f8ce",
       "version_major": 2,
       "version_minor": 0
      },
      "text/plain": [
       "  0%|          | 0/1 [00:00<?, ?it/s]"
      ]
     },
     "metadata": {},
     "output_type": "display_data"
    }
   ],
   "source": [
    "# Select example\n",
    "ind = np.random.choice(len(X_test))\n",
    "x = X_test[ind:ind+1]\n",
    "y = int(Y_test[ind])\n",
    "\n",
    "# Run FastSHAP\n",
    "fastshap_values = fastshap.shap_values(x)[0].transpose(1,0)\n",
    "\n",
    "# Run KernelSHAP to convergence\n",
    "game = shapreg.games.PredictionGame(imputer, x)\n",
    "shap_values, all_results = shapreg.shapley.ShapleyRegression(\n",
    "    game, batch_size=32, paired_sampling=False, detect_convergence=True,\n",
    "    bar=True, return_all=True)"
   ]
  },
  {
   "cell_type": "code",
   "execution_count": 20,
   "id": "available-dollar",
   "metadata": {},
   "outputs": [
    {
     "data": {
      "image/png": "[encoded data removed]",
      "text/plain": [
       "<Figure size 648x396 with 1 Axes>"
      ]
     },
     "metadata": {
      "needs_background": "light"
     },
     "output_type": "display_data"
    }
   ],
   "source": [
    "# Create figure\n",
    "plt.figure(figsize=(9, 5.5))\n",
    "\n",
    "# Bar chart\n",
    "width = 0.75\n",
    "kernelshap_iters = 128\n",
    "plt.bar(np.arange(num_features) - width / 3, shap_values.values[:, y],\n",
    "        width / 3, label='True SHAP values', color='tab:gray')\n",
    "plt.bar(np.arange(num_features), fastshap_values[:, y],\n",
    "        width / 3, label='FastSHAP', color='tab:green')\n",
    "plt.bar(np.arange(num_features) + width / 3,\n",
    "        all_results['values'][list(all_results['iters']).index(kernelshap_iters)][:, y],\n",
    "        width / 3, label='KernelSHAP @ {}'.format(kernelshap_iters), color='tab:red')\n",
    "\n",
    "# Annotations\n",
    "plt.legend(fontsize=16)\n",
    "plt.tick_params(labelsize=14)\n",
    "plt.ylabel('SHAP Values', fontsize=16)\n",
    "plt.title('Census Explanation Example', fontsize=18)\n",
    "plt.xticks(np.arange(num_features), feature_names,\n",
    "           rotation=35, rotation_mode='anchor', ha='right')\n",
    "\n",
    "plt.tight_layout()\n",
    "plt.show()"
   ]
  }
 ],
 "metadata": {
  "kernelspec": {
   "display_name": "Python 3",
   "language": "python",
   "name": "python3"
  },
  "language_info": {
   "codemirror_mode": {
    "name": "ipython",
    "version": 3
   },
   "file_extension": ".py",
   "mimetype": "text/x-python",
   "name": "python",
   "nbconvert_exporter": "python",
   "pygments_lexer": "ipython3",
   "version": "3.7.9"
  }
 },
 "nbformat": 4,
 "nbformat_minor": 5
}
